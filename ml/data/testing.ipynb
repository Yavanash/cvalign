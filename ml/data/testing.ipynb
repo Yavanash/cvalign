{
 "cells": [
  {
   "cell_type": "code",
   "execution_count": 28,
   "id": "4e5bce09",
   "metadata": {},
   "outputs": [],
   "source": [
    "import pandas as pd\n",
    "df = pd.read_csv(\"data.csv\")\n",
    "df1 = pd.read_csv(\"job_title_des.csv\")"
   ]
  },
  {
   "cell_type": "code",
   "execution_count": 2,
   "id": "e7f70905",
   "metadata": {},
   "outputs": [
    {
     "data": {
      "text/plain": [
       "'- : as a recent graduate in computer science with 6-months of experience in flutter, i am excited to apply for the position of flutter developer at your company. though i have not worked with android studio, i am willing to learn and adapt as per the requirement. i have experience in handling user-friendly ui based on requirements in a flutter and knowledge of firebase. i am comfortable working with cross-platform frameworks. while i have not worked with location services and video recording, i am eager to learn and implement them. i am a strong team player with a commitment to perfection and am ready to face new challenges.'"
      ]
     },
     "execution_count": 2,
     "metadata": {},
     "output_type": "execute_result"
    }
   ],
   "source": [
    "df[\"cv\"][0]"
   ]
  },
  {
   "cell_type": "code",
   "execution_count": 3,
   "id": "a8fcaf1a",
   "metadata": {},
   "outputs": [
    {
     "data": {
      "text/plain": [
       "'we are looking for hire experts flutter developer. so you are eligible this post then apply your resume. job types: full-time, part-time salary: 20,000.00 - 40,000.00 per month benefits: flexible schedule food allowance schedule: day shift supplemental pay: joining bonus overtime pay experience: total work: 1 year (preferred) housing rent subsidy: yes industry: software development work remotely: temporarily due to covid-19'"
      ]
     },
     "execution_count": 3,
     "metadata": {},
     "output_type": "execute_result"
    }
   ],
   "source": [
    "df1[\"pjdesc\"][0]"
   ]
  },
  {
   "cell_type": "code",
   "execution_count": 7,
   "id": "93ab70e8",
   "metadata": {},
   "outputs": [
    {
     "data": {
      "text/html": [
       "<div>\n",
       "<style scoped>\n",
       "    .dataframe tbody tr th:only-of-type {\n",
       "        vertical-align: middle;\n",
       "    }\n",
       "\n",
       "    .dataframe tbody tr th {\n",
       "        vertical-align: top;\n",
       "    }\n",
       "\n",
       "    .dataframe thead th {\n",
       "        text-align: right;\n",
       "    }\n",
       "</style>\n",
       "<table border=\"1\" class=\"dataframe\">\n",
       "  <thead>\n",
       "    <tr style=\"text-align: right;\">\n",
       "      <th></th>\n",
       "      <th>Unnamed: 0</th>\n",
       "      <th>Job Title</th>\n",
       "      <th>Job Description</th>\n",
       "    </tr>\n",
       "  </thead>\n",
       "  <tbody>\n",
       "    <tr>\n",
       "      <th>0</th>\n",
       "      <td>0</td>\n",
       "      <td>Flutter Developer</td>\n",
       "      <td>We are looking for hire experts flutter develo...</td>\n",
       "    </tr>\n",
       "    <tr>\n",
       "      <th>1</th>\n",
       "      <td>1</td>\n",
       "      <td>Django Developer</td>\n",
       "      <td>PYTHON/DJANGO (Developer/Lead) - Job Code(PDJ ...</td>\n",
       "    </tr>\n",
       "    <tr>\n",
       "      <th>2</th>\n",
       "      <td>2</td>\n",
       "      <td>Machine Learning</td>\n",
       "      <td>Data Scientist (Contractor)\\n\\nBangalore, IN\\n...</td>\n",
       "    </tr>\n",
       "    <tr>\n",
       "      <th>3</th>\n",
       "      <td>3</td>\n",
       "      <td>iOS Developer</td>\n",
       "      <td>JOB DESCRIPTION:\\n\\nStrong framework outside o...</td>\n",
       "    </tr>\n",
       "    <tr>\n",
       "      <th>4</th>\n",
       "      <td>4</td>\n",
       "      <td>Full Stack Developer</td>\n",
       "      <td>job responsibility full stack engineer – react...</td>\n",
       "    </tr>\n",
       "  </tbody>\n",
       "</table>\n",
       "</div>"
      ],
      "text/plain": [
       "   Unnamed: 0             Job Title  \\\n",
       "0           0     Flutter Developer   \n",
       "1           1      Django Developer   \n",
       "2           2      Machine Learning   \n",
       "3           3         iOS Developer   \n",
       "4           4  Full Stack Developer   \n",
       "\n",
       "                                     Job Description  \n",
       "0  We are looking for hire experts flutter develo...  \n",
       "1  PYTHON/DJANGO (Developer/Lead) - Job Code(PDJ ...  \n",
       "2  Data Scientist (Contractor)\\n\\nBangalore, IN\\n...  \n",
       "3  JOB DESCRIPTION:\\n\\nStrong framework outside o...  \n",
       "4  job responsibility full stack engineer – react...  "
      ]
     },
     "execution_count": 7,
     "metadata": {},
     "output_type": "execute_result"
    }
   ],
   "source": [
    "df1.head()"
   ]
  },
  {
   "cell_type": "code",
   "execution_count": 11,
   "id": "ec0bb3af",
   "metadata": {},
   "outputs": [
    {
     "data": {
      "text/plain": [
       "array(['Flutter Developer', 'Django Developer', 'Machine Learning',\n",
       "       'iOS Developer', 'Full Stack Developer', 'Java Developer',\n",
       "       'JavaScript Developer', 'DevOps Engineer', 'Software Engineer',\n",
       "       'Database Administrator', 'Wordpress Developer', 'PHP Developer',\n",
       "       'Backend Developer', 'Network Administrator', 'Node js developer'],\n",
       "      dtype=object)"
      ]
     },
     "execution_count": 11,
     "metadata": {},
     "output_type": "execute_result"
    }
   ],
   "source": [
    "df1[\"Job Title\"].unique()"
   ]
  },
  {
   "cell_type": "code",
   "execution_count": 23,
   "id": "109821e4",
   "metadata": {},
   "outputs": [
    {
     "data": {
      "text/html": [
       "<div>\n",
       "<style scoped>\n",
       "    .dataframe tbody tr th:only-of-type {\n",
       "        vertical-align: middle;\n",
       "    }\n",
       "\n",
       "    .dataframe tbody tr th {\n",
       "        vertical-align: top;\n",
       "    }\n",
       "\n",
       "    .dataframe thead th {\n",
       "        text-align: right;\n",
       "    }\n",
       "</style>\n",
       "<table border=\"1\" class=\"dataframe\">\n",
       "  <thead>\n",
       "    <tr style=\"text-align: right;\">\n",
       "      <th></th>\n",
       "      <th>Unnamed: 0</th>\n",
       "      <th>Job Title</th>\n",
       "      <th>Job Description</th>\n",
       "    </tr>\n",
       "  </thead>\n",
       "  <tbody>\n",
       "    <tr>\n",
       "      <th>2</th>\n",
       "      <td>2</td>\n",
       "      <td>Machine Learning</td>\n",
       "      <td>Data Scientist (Contractor)\\n\\nBangalore, IN\\n...</td>\n",
       "    </tr>\n",
       "    <tr>\n",
       "      <th>11</th>\n",
       "      <td>11</td>\n",
       "      <td>Machine Learning</td>\n",
       "      <td>Remote, Any where\\n2 - 4 years\\n₹8L - ₹12L / y...</td>\n",
       "    </tr>\n",
       "    <tr>\n",
       "      <th>12</th>\n",
       "      <td>12</td>\n",
       "      <td>Machine Learning</td>\n",
       "      <td>Excited by Big Data, Machine Learning and Pred...</td>\n",
       "    </tr>\n",
       "    <tr>\n",
       "      <th>30</th>\n",
       "      <td>31</td>\n",
       "      <td>Machine Learning</td>\n",
       "      <td>Vista Equity Partners is the world's leading p...</td>\n",
       "    </tr>\n",
       "    <tr>\n",
       "      <th>33</th>\n",
       "      <td>34</td>\n",
       "      <td>Machine Learning</td>\n",
       "      <td>Staff Machine Learning Scientist\\n\\nHyderabad/...</td>\n",
       "    </tr>\n",
       "    <tr>\n",
       "      <th>...</th>\n",
       "      <td>...</td>\n",
       "      <td>...</td>\n",
       "      <td>...</td>\n",
       "    </tr>\n",
       "    <tr>\n",
       "      <th>2242</th>\n",
       "      <td>2367</td>\n",
       "      <td>Machine Learning</td>\n",
       "      <td>Your Profile:\\nWill demonstrate cross function...</td>\n",
       "    </tr>\n",
       "    <tr>\n",
       "      <th>2259</th>\n",
       "      <td>2385</td>\n",
       "      <td>Machine Learning</td>\n",
       "      <td>Responsibilities\\nStudy and transform data sci...</td>\n",
       "    </tr>\n",
       "    <tr>\n",
       "      <th>2261</th>\n",
       "      <td>2388</td>\n",
       "      <td>Machine Learning</td>\n",
       "      <td>Job Description\\nAbout our client:\\nOur Client...</td>\n",
       "    </tr>\n",
       "    <tr>\n",
       "      <th>2266</th>\n",
       "      <td>2393</td>\n",
       "      <td>Machine Learning</td>\n",
       "      <td>PipeCandy is a 'one of its kind', 'data scienc...</td>\n",
       "    </tr>\n",
       "    <tr>\n",
       "      <th>2275</th>\n",
       "      <td>2402</td>\n",
       "      <td>Machine Learning</td>\n",
       "      <td>Key Responsibilities: Team leads for small or ...</td>\n",
       "    </tr>\n",
       "  </tbody>\n",
       "</table>\n",
       "<p>152 rows × 3 columns</p>\n",
       "</div>"
      ],
      "text/plain": [
       "      Unnamed: 0         Job Title  \\\n",
       "2              2  Machine Learning   \n",
       "11            11  Machine Learning   \n",
       "12            12  Machine Learning   \n",
       "30            31  Machine Learning   \n",
       "33            34  Machine Learning   \n",
       "...          ...               ...   \n",
       "2242        2367  Machine Learning   \n",
       "2259        2385  Machine Learning   \n",
       "2261        2388  Machine Learning   \n",
       "2266        2393  Machine Learning   \n",
       "2275        2402  Machine Learning   \n",
       "\n",
       "                                        Job Description  \n",
       "2     Data Scientist (Contractor)\\n\\nBangalore, IN\\n...  \n",
       "11    Remote, Any where\\n2 - 4 years\\n₹8L - ₹12L / y...  \n",
       "12    Excited by Big Data, Machine Learning and Pred...  \n",
       "30    Vista Equity Partners is the world's leading p...  \n",
       "33    Staff Machine Learning Scientist\\n\\nHyderabad/...  \n",
       "...                                                 ...  \n",
       "2242  Your Profile:\\nWill demonstrate cross function...  \n",
       "2259  Responsibilities\\nStudy and transform data sci...  \n",
       "2261  Job Description\\nAbout our client:\\nOur Client...  \n",
       "2266  PipeCandy is a 'one of its kind', 'data scienc...  \n",
       "2275  Key Responsibilities: Team leads for small or ...  \n",
       "\n",
       "[152 rows x 3 columns]"
      ]
     },
     "execution_count": 23,
     "metadata": {},
     "output_type": "execute_result"
    }
   ],
   "source": [
    "df1.loc[df1[\"Job Title\"]==\"Machine Learning\"]"
   ]
  },
  {
   "cell_type": "code",
   "execution_count": 29,
   "id": "ac49fef0",
   "metadata": {},
   "outputs": [
    {
     "data": {
      "text/html": [
       "<div>\n",
       "<style scoped>\n",
       "    .dataframe tbody tr th:only-of-type {\n",
       "        vertical-align: middle;\n",
       "    }\n",
       "\n",
       "    .dataframe tbody tr th {\n",
       "        vertical-align: top;\n",
       "    }\n",
       "\n",
       "    .dataframe thead th {\n",
       "        text-align: right;\n",
       "    }\n",
       "</style>\n",
       "<table border=\"1\" class=\"dataframe\">\n",
       "  <thead>\n",
       "    <tr style=\"text-align: right;\">\n",
       "      <th></th>\n",
       "      <th>Job Title</th>\n",
       "      <th>pjdesc</th>\n",
       "    </tr>\n",
       "  </thead>\n",
       "  <tbody>\n",
       "    <tr>\n",
       "      <th>0</th>\n",
       "      <td>Flutter Developer</td>\n",
       "      <td>we are looking for hire experts flutter develo...</td>\n",
       "    </tr>\n",
       "    <tr>\n",
       "      <th>1</th>\n",
       "      <td>Django Developer</td>\n",
       "      <td>python/django (developer/lead) - job code(pdj ...</td>\n",
       "    </tr>\n",
       "    <tr>\n",
       "      <th>2</th>\n",
       "      <td>Machine Learning</td>\n",
       "      <td>data scientist (contractor) bangalore, in resp...</td>\n",
       "    </tr>\n",
       "    <tr>\n",
       "      <th>3</th>\n",
       "      <td>iOS Developer</td>\n",
       "      <td>job description: strong framework outside of i...</td>\n",
       "    </tr>\n",
       "    <tr>\n",
       "      <th>4</th>\n",
       "      <td>Full Stack Developer</td>\n",
       "      <td>job responsibility full stack engineer react r...</td>\n",
       "    </tr>\n",
       "  </tbody>\n",
       "</table>\n",
       "</div>"
      ],
      "text/plain": [
       "              Job Title                                             pjdesc\n",
       "0     Flutter Developer  we are looking for hire experts flutter develo...\n",
       "1      Django Developer  python/django (developer/lead) - job code(pdj ...\n",
       "2      Machine Learning  data scientist (contractor) bangalore, in resp...\n",
       "3         iOS Developer  job description: strong framework outside of i...\n",
       "4  Full Stack Developer  job responsibility full stack engineer react r..."
      ]
     },
     "execution_count": 29,
     "metadata": {},
     "output_type": "execute_result"
    }
   ],
   "source": [
    "df.head()"
   ]
  },
  {
   "cell_type": "code",
   "execution_count": 31,
   "id": "25c85ab6",
   "metadata": {},
   "outputs": [
    {
     "data": {
      "text/plain": [
       "'data scientist (contractor) bangalore, in responsibilities we are looking for a capable data scientist to join the analytics team, reporting locally in india bangalore. this persons responsibilities include research, design and development of machine learning and deep learning algorithms to tackle a variety of fraud oriented challenges. the data scientist will work closely with software engineers and program managers to deliver end-to-end products, including: data collection in big scale and analysis, exploring different algorithmic approaches, model development, assessment and validation all the way through production. qualifications at least 3 years of hands-on development of complex machine learning models using modern frameworks and tools, ideally python based. solid understanding of statistics and applied mathematics creative thinker with a proven ability to tackle open problems and apply non-trivial solutions. experience in software development using python, java or a similar language. any graduate or m.sc. in computer science, mathematics or equivalent, preferably in machine learning ability to write clean and concise code quick learner, independent, methodical, and detail oriented. team player, positive attitude, collaborative, good communication skills. dedicated, makes things happen. flexible, capable of making decisions in an ambiguous and changing environment. advantages: prior experience as a software developer or data engineer advantage experience with big data advantage experience with spark big advantage experience with deep learning frameworks (pytorch, tensorflow, keras) advantage. experience in the telecommunication domain and/or fraud prevention - advantage'"
      ]
     },
     "execution_count": 31,
     "metadata": {},
     "output_type": "execute_result"
    }
   ],
   "source": [
    "df.iloc[2,1]"
   ]
  }
 ],
 "metadata": {
  "kernelspec": {
   "display_name": "nlp",
   "language": "python",
   "name": "python3"
  },
  "language_info": {
   "codemirror_mode": {
    "name": "ipython",
    "version": 3
   },
   "file_extension": ".py",
   "mimetype": "text/x-python",
   "name": "python",
   "nbconvert_exporter": "python",
   "pygments_lexer": "ipython3",
   "version": "3.12.3"
  }
 },
 "nbformat": 4,
 "nbformat_minor": 5
}
