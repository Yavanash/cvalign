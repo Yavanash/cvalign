{
 "cells": [
  {
   "cell_type": "code",
   "execution_count": 1,
   "id": "4e5bce09",
   "metadata": {},
   "outputs": [],
   "source": [
    "import pandas as pd\n",
    "df = pd.read_csv(\"test.csv\")\n",
    "df1 = pd.read_csv(\"data.csv\")"
   ]
  },
  {
   "cell_type": "code",
   "execution_count": 2,
   "id": "e7f70905",
   "metadata": {},
   "outputs": [
    {
     "data": {
      "text/plain": [
       "'- : as a recent graduate in computer science with 6-months of experience in flutter, i am excited to apply for the position of flutter developer at your company. though i have not worked with android studio, i am willing to learn and adapt as per the requirement. i have experience in handling user-friendly ui based on requirements in a flutter and knowledge of firebase. i am comfortable working with cross-platform frameworks. while i have not worked with location services and video recording, i am eager to learn and implement them. i am a strong team player with a commitment to perfection and am ready to face new challenges.'"
      ]
     },
     "execution_count": 2,
     "metadata": {},
     "output_type": "execute_result"
    }
   ],
   "source": [
    "df[\"cv\"][0]"
   ]
  },
  {
   "cell_type": "code",
   "execution_count": 6,
   "id": "a8fcaf1a",
   "metadata": {},
   "outputs": [
    {
     "data": {
      "text/plain": [
       "'we are looking for hire experts flutter developer. so you are eligible this post then apply your resume. job types: full-time, part-time salary: 20,000.00 - 40,000.00 per month benefits: flexible schedule food allowance schedule: day shift supplemental pay: joining bonus overtime pay experience: total work: 1 year (preferred) housing rent subsidy: yes industry: software development work remotely: temporarily due to covid-19'"
      ]
     },
     "execution_count": 6,
     "metadata": {},
     "output_type": "execute_result"
    }
   ],
   "source": [
    "df1[\"pjdesc\"][0]"
   ]
  }
 ],
 "metadata": {
  "kernelspec": {
   "display_name": "nlp",
   "language": "python",
   "name": "python3"
  },
  "language_info": {
   "codemirror_mode": {
    "name": "ipython",
    "version": 3
   },
   "file_extension": ".py",
   "mimetype": "text/x-python",
   "name": "python",
   "nbconvert_exporter": "python",
   "pygments_lexer": "ipython3",
   "version": "3.12.3"
  }
 },
 "nbformat": 4,
 "nbformat_minor": 5
}
